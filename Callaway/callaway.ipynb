{
 "cells": [
  {
   "cell_type": "code",
   "execution_count": 4,
   "metadata": {},
   "outputs": [
    {
     "name": "stderr",
     "output_type": "stream",
     "text": [
      "[WDM] - Current google-chrome version is 87.0.4280\n",
      "[WDM] - Get LATEST driver version for 87.0.4280\n",
      "[WDM] - Driver [/Users/skylernavarro/.wdm/drivers/chromedriver/mac64/87.0.4280.88/chromedriver] found in cache\n"
     ]
    },
    {
     "name": "stdout",
     "output_type": "stream",
     "text": [
      " \n"
     ]
    }
   ],
   "source": [
    "from bs4 import BeautifulSoup\n",
    "import requests\n",
    "import pandas as pd\n",
    "from selenium import webdriver # module containing implementations of browser drivers\n",
    "from webdriver_manager.chrome import ChromeDriverManager # Chrome driver\n",
    "from selenium.webdriver.common.by import By # method for locating elements by their attributes\n",
    "from datetime import datetime\n",
    "\n",
    "driver = webdriver.Chrome(ChromeDriverManager().install())\n",
    "driver.get('https://e.infogram.com/callaway-county-covid-dashboard-1hzj4o07ldrw4pw?parent_url=https%3A%2F%2Fcallawaycovid19.com%2F&src=embed#async_embed')\n",
    "\n",
    "\n",
    "assert \"Callaway County\" in driver.title\n",
    "\n",
    "callaway = driver.find_elements_by_class_name(\"__ig-alignCenter\")\n",
    "\n",
    "# for text in callaway[8:10]:\n",
    "#     print(text.text)\n",
    "\n",
    "cases = callaway[8].text\n",
    "# print(cases.text)\n",
    "\n",
    "deaths = callaway[9].text\n",
    "\n",
    "driver.quit()\n",
    "\n",
    "callawaydic ={\n",
    "    'Total Cases': cases,\n",
    "    'Total Deaths': deaths\n",
    "}\n",
    "\n",
    "df = pd.DataFrame(list(callawaydic.items()), columns = ['Callaway County','--',])\n",
    "df.insert(0, 'Timestamp', datetime.now().replace(microsecond=0))\n",
    "\n",
    "df.to_csv('callaway.csv')"
   ]
  },
  {
   "cell_type": "code",
   "execution_count": null,
   "metadata": {},
   "outputs": [],
   "source": []
  }
 ],
 "metadata": {
  "kernelspec": {
   "display_name": "Python 3",
   "language": "python",
   "name": "python3"
  },
  "language_info": {
   "codemirror_mode": {
    "name": "ipython",
    "version": 3
   },
   "file_extension": ".py",
   "mimetype": "text/x-python",
   "name": "python",
   "nbconvert_exporter": "python",
   "pygments_lexer": "ipython3",
   "version": "3.8.5"
  }
 },
 "nbformat": 4,
 "nbformat_minor": 4
}
