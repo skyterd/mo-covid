{
 "cells": [
  {
   "cell_type": "code",
   "execution_count": 1,
   "metadata": {},
   "outputs": [
    {
     "name": "stdout",
     "output_type": "stream",
     "text": [
      "            Timestamp       Cole County            --\n",
      "0 2020-12-18 20:56:15       Total Cases          6309\n",
      "1 2020-12-18 20:56:15       Cases Added   (+32 Cases)\n",
      "2 2020-12-18 20:56:15            Deaths            46\n",
      "3 2020-12-18 20:56:15      Deaths Added  (+16 Deaths)\n",
      "4 2020-12-18 20:56:15         LTC Cases           246\n",
      "5 2020-12-18 20:56:15   LTC Cases Added    (+2 Cases)\n",
      "6 2020-12-18 20:56:15        LTC Deaths            38\n",
      "7 2020-12-18 20:56:15  LTC Deaths Added   (+5 Deaths)\n"
     ]
    }
   ],
   "source": [
    "from bs4 import BeautifulSoup\n",
    "import requests\n",
    "import csv\n",
    "import pandas as pd\n",
    "from datetime import datetime\n",
    "import openpyxl\n",
    "\n",
    "source = requests.get('https://colecounty.org/794/COVID-19')\n",
    "\n",
    "content = source.content\n",
    "\n",
    "soup = BeautifulSoup(content, 'lxml')\n",
    "\n",
    "table = soup.find('table')\n",
    "\n",
    "table_rows = table.find_all('tr')\n",
    "\n",
    "for tr in table_rows:\n",
    "    td = tr.find_all('td')\n",
    "    row = [i.text for i in tr]\n",
    "    # print(row)\n",
    "\n",
    "# print('Total Cases')\n",
    "total_cases = table_rows[1].find('td').find_all('span')[-2].text\n",
    "# print(total_cases)\n",
    "\n",
    "total_cases_added = table_rows[1].find('td').find_all('span')[-1].text\n",
    "# print(total_cases_added)\n",
    "\n",
    "# print('Total Deaths')\n",
    "total_deaths = table_rows[1].find_all('td')[-1].find_all('span')[3].text\n",
    "# print(total_deaths)\n",
    "\n",
    "total_deaths_added = table_rows[1].find_all('td')[-1].find_all('span')[-1].text\n",
    "# print(total_deaths_added)\n",
    "\n",
    "# print('LTC Cases')\n",
    "ltc_cases = table_rows[3].find('td').find_all('span')[3].text\n",
    "# print(ltc_cases)\n",
    "\n",
    "ltc_cases_added = table_rows[3].find('td').find_all('span')[-1].text\n",
    "# print(ltc_cases_added)\n",
    "\n",
    "# print('LTC Deaths')\n",
    "ltc_deaths = table_rows[-1].find_all('td')[-1].find_all('span')[4].text\n",
    "# print(ltc_deaths)\n",
    "\n",
    "ltc_deaths_added = table_rows[-1].find_all('td')[-1].find_all('span')[-1].text\n",
    "# print(ltc_deaths_added)\n",
    "\n",
    "thisdict = {\n",
    "    'Total Cases': total_cases,\n",
    "    'Cases Added': total_cases_added,\n",
    "    'Deaths': total_deaths,\n",
    "    'Deaths Added': total_deaths_added,\n",
    "    'LTC Cases': ltc_cases,\n",
    "    'LTC Cases Added': ltc_cases_added,\n",
    "    'LTC Deaths': ltc_deaths,\n",
    "    'LTC Deaths Added': ltc_deaths_added\n",
    "}\n",
    "\n",
    "df = pd.DataFrame(list(thisdict.items()), columns = ['Cole County','--',])\n",
    "df.insert(0, 'Timestamp', datetime.now().replace(microsecond=0))\n",
    "print(df)\n",
    "\n",
    "df.to_csv('mo-covid.csv')"
   ]
  },
  {
   "cell_type": "code",
   "execution_count": null,
   "metadata": {},
   "outputs": [],
   "source": []
  }
 ],
 "metadata": {
  "kernelspec": {
   "display_name": "Python 3",
   "language": "python",
   "name": "python3"
  },
  "language_info": {
   "codemirror_mode": {
    "name": "ipython",
    "version": 3
   },
   "file_extension": ".py",
   "mimetype": "text/x-python",
   "name": "python",
   "nbconvert_exporter": "python",
   "pygments_lexer": "ipython3",
   "version": "3.8.5"
  }
 },
 "nbformat": 4,
 "nbformat_minor": 4
}
