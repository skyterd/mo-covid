{
 "cells": [
  {
   "cell_type": "code",
   "execution_count": 4,
   "metadata": {},
   "outputs": [
    {
     "name": "stdout",
     "output_type": "stream",
     "text": [
      "   Daily_Cases  Cumulative_Cases  Five_Day_Average  Deaths_Totals\n",
      "0          153             12580               124             43\n",
      "1          173             12427               119             43\n",
      "2          124             12254               108             43\n",
      "3           80             12130               107             43\n",
      "4           91             12050               111             42\n"
     ]
    }
   ],
   "source": [
    "import requests\n",
    "import pandas as pd\n",
    "from datetime import datetime\n",
    "import dateutil.parser\n",
    "\n",
    "\n",
    "url = \"https://services.arcgis.com/GHhNHT1xiCkCAXvo/arcgis/rest/services/COVID19_Data/FeatureServer/0/query\"\n",
    "\n",
    "params = {\n",
    "    \"f\": \"json\",\n",
    "    \"where\": \"Date_of_Test BETWEEN timestamp '2020-09-17 05:00:00' AND CURRENT_TIMESTAMP\",\n",
    "    \"returnGeometry\": False,\n",
    "    \"spatialRel\": \"esriSpatialRelIntersects\",\n",
    "    \"outFields\": [\n",
    "        'Date_of_Test',\n",
    "        'Daily_Cases',\n",
    "        'Cumulative_Cases',\n",
    "        # 'Percent_Increase',\n",
    "        'Five_Day_Average',\n",
    "        # 'Date_of_Actual_Death',\n",
    "        'Deaths_Totals',\n",
    "        # 'FID',\n",
    "    ],\n",
    "    \"orderByFields\": \"Date_of_Test desc\",\n",
    "    \"resultOffset\": 0,\n",
    "    \"resultType\": \"standard\"\n",
    "}\n",
    "r = requests.get(url, params=params)\n",
    "r.json()['features'][:5]\n",
    "data = [d['attributes'] for d in r.json()['features']]\n",
    "boco = data[:5]\n",
    "\n",
    "df = pd.DataFrame(boco)\n",
    "df = df.drop(columns=['FID'])\n",
    "\n",
    "timestamp = data[0]['Date_of_Test']\n",
    "timestamp_no_ms = int(str(timestamp)[:-3])\n",
    "naive_dt = dt = datetime.fromtimestamp(timestamp_no_ms)\n",
    "# print(x)\n",
    "\n",
    "import pytz\n",
    "central = pytz.timezone('US/Central')\n",
    "dt = datetime.fromtimestamp(timestamp_no_ms, tz=central)\n",
    "# print(dt)\n",
    "\n",
    "# time = df['Date_of_Test']\n",
    "\n",
    "# print(time.head())\n",
    "\n",
    "df = df.drop(columns=['Date_of_Test'])\n",
    "\n",
    "print(df)\n",
    "\n",
    "df.to_csv('boone.csv')"
   ]
  },
  {
   "cell_type": "code",
   "execution_count": null,
   "metadata": {},
   "outputs": [],
   "source": []
  },
  {
   "cell_type": "code",
   "execution_count": null,
   "metadata": {},
   "outputs": [],
   "source": []
  }
 ],
 "metadata": {
  "kernelspec": {
   "display_name": "Python 3",
   "language": "python",
   "name": "python3"
  },
  "language_info": {
   "codemirror_mode": {
    "name": "ipython",
    "version": 3
   },
   "file_extension": ".py",
   "mimetype": "text/x-python",
   "name": "python",
   "nbconvert_exporter": "python",
   "pygments_lexer": "ipython3",
   "version": "3.8.5"
  }
 },
 "nbformat": 4,
 "nbformat_minor": 4
}
