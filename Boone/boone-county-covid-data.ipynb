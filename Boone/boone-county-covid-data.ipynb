{
 "cells": [
  {
   "cell_type": "code",
   "execution_count": 1,
   "metadata": {},
   "outputs": [],
   "source": [
    "import requests"
   ]
  },
  {
   "cell_type": "markdown",
   "metadata": {},
   "source": [
    "The data for Boone County's COVID dashboard is coming from the [REST API](https://developers.arcgis.com/rest/) of their ArcGIS server instance:\n",
    "\n",
    "- The identifer for that server is `GHhNHT1xiCkCAXvo`\n",
    "- The [\"feature service\"](https://developers.arcgis.com/rest/services-reference/feature-service.htm) for that data is `COVID19_Data`\n",
    "- The first and only [\"layer\"](https://developers.arcgis.com/rest/services-reference/layer-feature-service-.htm) of this service is a sheet (i.e., in the `0` position)\n",
    "\n",
    "So here is the URL to query the first data sheet:"
   ]
  },
  {
   "cell_type": "code",
   "execution_count": 2,
   "metadata": {},
   "outputs": [],
   "source": [
    "url = \"https://services.arcgis.com/GHhNHT1xiCkCAXvo/arcgis/rest/services/COVID19_Data/FeatureServer/0/query\""
   ]
  },
  {
   "cell_type": "markdown",
   "metadata": {},
   "source": [
    "To fetch the data, we need to make a `GET` request with the appropriate query string parameters.\n",
    "\n",
    "This is roughly what we found in one of those requests using my web browser's development tools. Note that I modified the `'outfields'` to value so as to remove fields that don't contain any values for this particular query."
   ]
  },
  {
   "cell_type": "code",
   "execution_count": 3,
   "metadata": {},
   "outputs": [],
   "source": [
    "params = {\n",
    "    \"f\": \"json\",\n",
    "    \"where\": \"Date_of_Test BETWEEN timestamp '2020-09-17 05:00:00' AND CURRENT_TIMESTAMP\",\n",
    "    \"returnGeometry\": False,\n",
    "    \"spatialRel\": \"esriSpatialRelIntersects\",\n",
    "    \"outFields\": [\n",
    "        'Date_of_Test',\n",
    "        'Daily_Cases',\n",
    "        'Cumulative_Cases',\n",
    "        'Percent_Increase',\n",
    "        'Five_Day_Average',\n",
    "        'Date_of_Actual_Death',\n",
    "        'Deaths_Totals',\n",
    "        'FID',\n",
    "    ],\n",
    "    \"orderByFields\": \"Date_of_Test desc\",\n",
    "    \"resultOffset\": 0,\n",
    "    \"resultType\": \"standard\" \n",
    "}"
   ]
  },
  {
   "cell_type": "code",
   "execution_count": 4,
   "metadata": {},
   "outputs": [],
   "source": [
    "r = requests.get(url, params=params)"
   ]
  },
  {
   "cell_type": "markdown",
   "metadata": {},
   "source": [
    "We can also see (and modify) this query via the ArcGIS REST services [web interface](https://services.arcgis.com/GHhNHT1xiCkCAXvo/arcgis/rest/services/COVID19_Data/FeatureServer/0/query?f=html&where=Date_of_Test+BETWEEN+timestamp+%272020-09-17+05%3A00%3A00%27+AND+CURRENT_TIMESTAMP&returnGeometry=False&spatialRel=esriSpatialRelIntersects&outFields=Date_of_Test&outFields=Daily_Cases&outFields=Cumulative_Cases&outFields=Percent_Increase&outFields=Five_Day_Average&outFields=Date_of_Actual_Death&outFields=Deaths_Totals&outFields=FID&orderByFields=Date_of_Test+desc&resultOffset=0&resultType=standard)"
   ]
  },
  {
   "cell_type": "markdown",
   "metadata": {},
   "source": [
    "The data is returned in the json of the response. Because ArcGIS is built for geo-spatial data, each observation (aka, \"record\" or \"row\") is labeled a [\"feature\"](https://developers.arcgis.com/rest/services-reference/feature-feature-service-.htm).\n",
    "\n",
    "Here are the first five."
   ]
  },
  {
   "cell_type": "code",
   "execution_count": 5,
   "metadata": {},
   "outputs": [
    {
     "data": {
      "text/plain": [
       "[{'attributes': {'Date_of_Test': 1608127200000,\n",
       "   'Daily_Cases': 124,\n",
       "   'Cumulative_Cases': 12254,\n",
       "   'Percent_Increase': 0.010119144769055,\n",
       "   'Five_Day_Average': 108,\n",
       "   'Date_of_Actual_Death': 1608127200000,\n",
       "   'Deaths_Totals': 40,\n",
       "   'FID': 55}},\n",
       " {'attributes': {'Date_of_Test': 1608040800000,\n",
       "   'Daily_Cases': 80,\n",
       "   'Cumulative_Cases': 12130,\n",
       "   'Percent_Increase': 0.00659521846661171,\n",
       "   'Five_Day_Average': 107,\n",
       "   'Date_of_Actual_Death': 1608040800000,\n",
       "   'Deaths_Totals': 40,\n",
       "   'FID': 54}},\n",
       " {'attributes': {'Date_of_Test': 1607954400000,\n",
       "   'Daily_Cases': 91,\n",
       "   'Cumulative_Cases': 12050,\n",
       "   'Percent_Increase': 0.00755186721991701,\n",
       "   'Five_Day_Average': 111,\n",
       "   'Date_of_Actual_Death': 1607954400000,\n",
       "   'Deaths_Totals': 40,\n",
       "   'FID': 53}},\n",
       " {'attributes': {'Date_of_Test': 1607868000000,\n",
       "   'Daily_Cases': 129,\n",
       "   'Cumulative_Cases': 11959,\n",
       "   'Percent_Increase': 0.0107868550882181,\n",
       "   'Five_Day_Average': 134,\n",
       "   'Date_of_Actual_Death': 1607868000000,\n",
       "   'Deaths_Totals': 40,\n",
       "   'FID': 52}},\n",
       " {'attributes': {'Date_of_Test': 1607781600000,\n",
       "   'Daily_Cases': 114,\n",
       "   'Cumulative_Cases': 11830,\n",
       "   'Percent_Increase': 0.00963651732882502,\n",
       "   'Five_Day_Average': 124,\n",
       "   'Date_of_Actual_Death': 1607781600000,\n",
       "   'Deaths_Totals': 40,\n",
       "   'FID': 51}}]"
      ]
     },
     "execution_count": 5,
     "metadata": {},
     "output_type": "execute_result"
    }
   ],
   "source": [
    "r.json()['features'][:5]"
   ]
  },
  {
   "cell_type": "markdown",
   "metadata": {},
   "source": [
    "Above, we see a list that contains a dict with just one key (`\"attributes\"`) with a value that is another, inner dict.\n",
    "\n",
    "Typically, each feature would have both a geometry representing the shape of that geography and attributes of the geography (e.g., the name and populations of each county in a layer). However, in this case, it's all just attributes. So you might as well remove that extra key."
   ]
  },
  {
   "cell_type": "code",
   "execution_count": 6,
   "metadata": {},
   "outputs": [],
   "source": [
    "data = [d['attributes'] for d in r.json()['features']]"
   ]
  },
  {
   "cell_type": "code",
   "execution_count": 7,
   "metadata": {},
   "outputs": [
    {
     "data": {
      "text/plain": [
       "[{'Date_of_Test': 1608127200000,\n",
       "  'Daily_Cases': 124,\n",
       "  'Cumulative_Cases': 12254,\n",
       "  'Percent_Increase': 0.010119144769055,\n",
       "  'Five_Day_Average': 108,\n",
       "  'Date_of_Actual_Death': 1608127200000,\n",
       "  'Deaths_Totals': 40,\n",
       "  'FID': 55},\n",
       " {'Date_of_Test': 1608040800000,\n",
       "  'Daily_Cases': 80,\n",
       "  'Cumulative_Cases': 12130,\n",
       "  'Percent_Increase': 0.00659521846661171,\n",
       "  'Five_Day_Average': 107,\n",
       "  'Date_of_Actual_Death': 1608040800000,\n",
       "  'Deaths_Totals': 40,\n",
       "  'FID': 54},\n",
       " {'Date_of_Test': 1607954400000,\n",
       "  'Daily_Cases': 91,\n",
       "  'Cumulative_Cases': 12050,\n",
       "  'Percent_Increase': 0.00755186721991701,\n",
       "  'Five_Day_Average': 111,\n",
       "  'Date_of_Actual_Death': 1607954400000,\n",
       "  'Deaths_Totals': 40,\n",
       "  'FID': 53},\n",
       " {'Date_of_Test': 1607868000000,\n",
       "  'Daily_Cases': 129,\n",
       "  'Cumulative_Cases': 11959,\n",
       "  'Percent_Increase': 0.0107868550882181,\n",
       "  'Five_Day_Average': 134,\n",
       "  'Date_of_Actual_Death': 1607868000000,\n",
       "  'Deaths_Totals': 40,\n",
       "  'FID': 52},\n",
       " {'Date_of_Test': 1607781600000,\n",
       "  'Daily_Cases': 114,\n",
       "  'Cumulative_Cases': 11830,\n",
       "  'Percent_Increase': 0.00963651732882502,\n",
       "  'Five_Day_Average': 124,\n",
       "  'Date_of_Actual_Death': 1607781600000,\n",
       "  'Deaths_Totals': 40,\n",
       "  'FID': 51}]"
      ]
     },
     "execution_count": 7,
     "metadata": {},
     "output_type": "execute_result"
    }
   ],
   "source": [
    "data[:5]"
   ]
  },
  {
   "cell_type": "code",
   "execution_count": 8,
   "metadata": {},
   "outputs": [],
   "source": [
    "timestamp = data[0]['Date_of_Test']"
   ]
  },
  {
   "cell_type": "code",
   "execution_count": 9,
   "metadata": {},
   "outputs": [],
   "source": [
    "from datetime import datetime"
   ]
  },
  {
   "cell_type": "code",
   "execution_count": 10,
   "metadata": {},
   "outputs": [],
   "source": [
    "timestamp_no_ms = int(str(timestamp)[:-3])"
   ]
  },
  {
   "cell_type": "code",
   "execution_count": 11,
   "metadata": {},
   "outputs": [],
   "source": [
    "naive_dt = dt = datetime.fromtimestamp(timestamp_no_ms)"
   ]
  },
  {
   "cell_type": "code",
   "execution_count": 12,
   "metadata": {},
   "outputs": [
    {
     "name": "stdout",
     "output_type": "stream",
     "text": [
      "2020-12-16 08:00:00\n"
     ]
    }
   ],
   "source": [
    "print(naive_dt)"
   ]
  },
  {
   "cell_type": "markdown",
   "metadata": {},
   "source": [
    "See [Aware versus Naive Objects](https://docs.python.org/3/library/datetime.html#aware-and-naive-objects) in Python's `datetime` module docs.\n",
    "\n",
    "It's typically a good idea to include timezone info in your datetime values. There are several third-party Python packages to make this easier (so `pip install pytz` to make this work below).\n",
    "\n",
    "You want to be careful on this front, though. Make sure you are clear with the source about the timezone context (including daylight savings vs not) in which the data is being recorded."
   ]
  },
  {
   "cell_type": "code",
   "execution_count": 13,
   "metadata": {},
   "outputs": [],
   "source": [
    "import pytz"
   ]
  },
  {
   "cell_type": "code",
   "execution_count": 14,
   "metadata": {},
   "outputs": [],
   "source": [
    "central = pytz.timezone('US/Central')"
   ]
  },
  {
   "cell_type": "code",
   "execution_count": 15,
   "metadata": {},
   "outputs": [],
   "source": [
    "dt = datetime.fromtimestamp(timestamp_no_ms, tz=central)"
   ]
  },
  {
   "cell_type": "code",
   "execution_count": 16,
   "metadata": {},
   "outputs": [
    {
     "name": "stdout",
     "output_type": "stream",
     "text": [
      "2020-12-16 08:00:00-06:00\n"
     ]
    }
   ],
   "source": [
    "print(dt)"
   ]
  },
  {
   "cell_type": "code",
   "execution_count": null,
   "metadata": {},
   "outputs": [],
   "source": []
  }
 ],
 "metadata": {
  "kernelspec": {
   "display_name": "Python 3",
   "language": "python",
   "name": "python3"
  },
  "language_info": {
   "codemirror_mode": {
    "name": "ipython",
    "version": 3
   },
   "file_extension": ".py",
   "mimetype": "text/x-python",
   "name": "python",
   "nbconvert_exporter": "python",
   "pygments_lexer": "ipython3",
   "version": "3.8.5"
  }
 },
 "nbformat": 4,
 "nbformat_minor": 4
}
