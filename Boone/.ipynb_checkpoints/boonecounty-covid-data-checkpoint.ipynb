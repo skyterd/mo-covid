{
 "cells": [
  {
   "cell_type": "code",
   "execution_count": 23,
   "metadata": {},
   "outputs": [],
   "source": [
    "import requests"
   ]
  },
  {
   "cell_type": "markdown",
   "metadata": {},
   "source": [
    "The data for Boone County's COVID dashboard is coming from the [REST API](https://developers.arcgis.com/rest/) of their ArcGIS server instance:\n",
    "\n",
    "- The identifer for that server is `GHhNHT1xiCkCAXvo`\n",
    "- The [\"feature service\"](https://developers.arcgis.com/rest/services-reference/feature-service.htm) for that data is `COVID19_Data`\n",
    "- The first and only [\"layer\"](https://developers.arcgis.com/rest/services-reference/layer-feature-service-.htm) of this service is a sheet (i.e., in the `0` position)\n",
    "\n",
    "So here is the URL to query the first data sheet:"
   ]
  },
  {
   "cell_type": "code",
   "execution_count": 2,
   "metadata": {},
   "outputs": [],
   "source": [
    "url = \"https://services.arcgis.com/GHhNHT1xiCkCAXvo/arcgis/rest/services/COVID19_Data/FeatureServer/0/query\""
   ]
  },
  {
   "cell_type": "markdown",
   "metadata": {},
   "source": [
    "To fetch the data, we need to make a `GET` request with the appropriate query string parameters.\n",
    "\n",
    "This is roughly what we found in one of those requests using my web browser's development tools. Note that I modified the `'outfields'` to value so as to remove fields that don't contain any values for this particular query."
   ]
  },
  {
   "cell_type": "code",
   "execution_count": 61,
   "metadata": {},
   "outputs": [],
   "source": [
    "params = {\n",
    "    \"f\": \"json\",\n",
    "    \"where\": \"Date_of_Test BETWEEN timestamp '2020-09-17 05:00:00' AND CURRENT_TIMESTAMP\",\n",
    "    \"returnGeometry\": False,\n",
    "    \"spatialRel\": \"esriSpatialRelIntersects\",\n",
    "    \"outFields\": [\n",
    "        'Date_of_Test',\n",
    "        'Daily_Cases',\n",
    "        'Cumulative_Cases',\n",
    "        'Percent_Increase',\n",
    "        'Five_Day_Average',\n",
    "        'Date_of_Actual_Death',\n",
    "        'Deaths_Totals',\n",
    "        'FID',\n",
    "    ],\n",
    "    \"orderByFields\": \"Date_of_Test desc\",\n",
    "    \"resultOffset\": 0,\n",
    "    \"resultType\": \"standard\" \n",
    "}"
   ]
  },
  {
   "cell_type": "code",
   "execution_count": 62,
   "metadata": {},
   "outputs": [],
   "source": [
    "r = requests.get(url, params=params)"
   ]
  },
  {
   "cell_type": "markdown",
   "metadata": {},
   "source": [
    "The data is returned in the json of the response. Because ArcGIS is built for geo-spatial data, each observation (aka, \"record\" or \"row\") is labeled a [\"feature\"](https://developers.arcgis.com/rest/services-reference/feature-feature-service-.htm).\n",
    "\n",
    "Here are the first five."
   ]
  },
  {
   "cell_type": "code",
   "execution_count": 67,
   "metadata": {},
   "outputs": [
    {
     "data": {
      "text/plain": [
       "[{'attributes': {'Date_of_Test': 1608040800000,\n",
       "   'Daily_Cases': 80,\n",
       "   'Cumulative_Cases': 12130,\n",
       "   'Percent_Increase': 0.00659521846661171,\n",
       "   'Five_Day_Average': 107,\n",
       "   'Date_of_Actual_Death': 1608040800000,\n",
       "   'Deaths_Totals': 40,\n",
       "   'FID': 250}},\n",
       " {'attributes': {'Date_of_Test': 1607954400000,\n",
       "   'Daily_Cases': 91,\n",
       "   'Cumulative_Cases': 12050,\n",
       "   'Percent_Increase': 0.00755186721991701,\n",
       "   'Five_Day_Average': 111,\n",
       "   'Date_of_Actual_Death': 1607954400000,\n",
       "   'Deaths_Totals': 40,\n",
       "   'FID': 249}},\n",
       " {'attributes': {'Date_of_Test': 1607868000000,\n",
       "   'Daily_Cases': 129,\n",
       "   'Cumulative_Cases': 11959,\n",
       "   'Percent_Increase': 0.0107868550882181,\n",
       "   'Five_Day_Average': 134,\n",
       "   'Date_of_Actual_Death': 1607868000000,\n",
       "   'Deaths_Totals': 40,\n",
       "   'FID': 248}},\n",
       " {'attributes': {'Date_of_Test': 1607781600000,\n",
       "   'Daily_Cases': 114,\n",
       "   'Cumulative_Cases': 11830,\n",
       "   'Percent_Increase': 0.00963651732882502,\n",
       "   'Five_Day_Average': 124,\n",
       "   'Date_of_Actual_Death': 1607781600000,\n",
       "   'Deaths_Totals': 40,\n",
       "   'FID': 247}},\n",
       " {'attributes': {'Date_of_Test': 1607695200000,\n",
       "   'Daily_Cases': 119,\n",
       "   'Cumulative_Cases': 11716,\n",
       "   'Percent_Increase': 0.0101570501877774,\n",
       "   'Five_Day_Average': 118,\n",
       "   'Date_of_Actual_Death': 1607695200000,\n",
       "   'Deaths_Totals': 39,\n",
       "   'FID': 246}}]"
      ]
     },
     "execution_count": 67,
     "metadata": {},
     "output_type": "execute_result"
    }
   ],
   "source": [
    "r.json()['features'][:5]"
   ]
  },
  {
   "cell_type": "markdown",
   "metadata": {},
   "source": [
    "Above, we see a list that contains a dict with just one key (`\"attributes\"`) with a value that is another, inner dict.\n",
    "\n",
    "Typically, each feature would have both a geometry representing the shape of that geography and attributes of the geography (e.g., the name and populations of each county in a layer). However, in this case, it's all just attributes. So you might as well remove that extra key."
   ]
  },
  {
   "cell_type": "code",
   "execution_count": 68,
   "metadata": {},
   "outputs": [],
   "source": [
    "data = [d['attributes'] for d in r.json()['features']]"
   ]
  },
  {
   "cell_type": "code",
   "execution_count": 69,
   "metadata": {},
   "outputs": [
    {
     "data": {
      "text/plain": [
       "[{'Date_of_Test': 1608040800000,\n",
       "  'Daily_Cases': 80,\n",
       "  'Cumulative_Cases': 12130,\n",
       "  'Percent_Increase': 0.00659521846661171,\n",
       "  'Five_Day_Average': 107,\n",
       "  'Date_of_Actual_Death': 1608040800000,\n",
       "  'Deaths_Totals': 40,\n",
       "  'FID': 250},\n",
       " {'Date_of_Test': 1607954400000,\n",
       "  'Daily_Cases': 91,\n",
       "  'Cumulative_Cases': 12050,\n",
       "  'Percent_Increase': 0.00755186721991701,\n",
       "  'Five_Day_Average': 111,\n",
       "  'Date_of_Actual_Death': 1607954400000,\n",
       "  'Deaths_Totals': 40,\n",
       "  'FID': 249},\n",
       " {'Date_of_Test': 1607868000000,\n",
       "  'Daily_Cases': 129,\n",
       "  'Cumulative_Cases': 11959,\n",
       "  'Percent_Increase': 0.0107868550882181,\n",
       "  'Five_Day_Average': 134,\n",
       "  'Date_of_Actual_Death': 1607868000000,\n",
       "  'Deaths_Totals': 40,\n",
       "  'FID': 248},\n",
       " {'Date_of_Test': 1607781600000,\n",
       "  'Daily_Cases': 114,\n",
       "  'Cumulative_Cases': 11830,\n",
       "  'Percent_Increase': 0.00963651732882502,\n",
       "  'Five_Day_Average': 124,\n",
       "  'Date_of_Actual_Death': 1607781600000,\n",
       "  'Deaths_Totals': 40,\n",
       "  'FID': 247},\n",
       " {'Date_of_Test': 1607695200000,\n",
       "  'Daily_Cases': 119,\n",
       "  'Cumulative_Cases': 11716,\n",
       "  'Percent_Increase': 0.0101570501877774,\n",
       "  'Five_Day_Average': 118,\n",
       "  'Date_of_Actual_Death': 1607695200000,\n",
       "  'Deaths_Totals': 39,\n",
       "  'FID': 246}]"
      ]
     },
     "execution_count": 69,
     "metadata": {},
     "output_type": "execute_result"
    }
   ],
   "source": [
    "data[:5]"
   ]
  },
  {
   "cell_type": "code",
   "execution_count": null,
   "metadata": {},
   "outputs": [],
   "source": []
  }
 ],
 "metadata": {
  "kernelspec": {
   "display_name": "Python 3",
   "language": "python",
   "name": "python3"
  },
  "language_info": {
   "codemirror_mode": {
    "name": "ipython",
    "version": 3
   },
   "file_extension": ".py",
   "mimetype": "text/x-python",
   "name": "python",
   "nbconvert_exporter": "python",
   "pygments_lexer": "ipython3",
   "version": "3.8.3"
  }
 },
 "nbformat": 4,
 "nbformat_minor": 4
}
